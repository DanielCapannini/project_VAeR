{
 "cells": [
  {
   "cell_type": "markdown",
   "metadata": {},
   "source": [
    "Dataset preproces"
   ]
  },
  {
   "cell_type": "code",
   "execution_count": 1,
   "metadata": {},
   "outputs": [],
   "source": [
    "import os\n",
    "import csv"
   ]
  },
  {
   "cell_type": "code",
   "execution_count": 2,
   "metadata": {},
   "outputs": [],
   "source": [
    "def create_csv_from_txt(input_folder, output_csv):\n",
    "    try:\n",
    "        csv_rows = []\n",
    "        for filename in os.listdir(input_folder):\n",
    "            if filename.endswith(\".txt\"):\n",
    "                jpg_name = filename.replace(\".txt\", \".jpg\")\n",
    "                txt_path = os.path.join(input_folder, filename)\n",
    "                with open(txt_path, 'r', encoding='utf-8') as file:\n",
    "                    content = file.read().strip()\n",
    "                if content:\n",
    "                    values = content.split()\n",
    "                    class_id = values[0] \n",
    "                    coordinates = values[1:-2] if len(values) > 2 else [] \n",
    "                    csv_rows.append([jpg_name, class_id] + coordinates)\n",
    "                else:\n",
    "                    csv_rows.append([jpg_name, \"-1\"])\n",
    "        with open(output_csv, 'w', newline='', encoding='utf-8') as csvfile:\n",
    "            csv_writer = csv.writer(csvfile)\n",
    "            header = [\"Image Name\", \"Class\", \"X1\", \"Y1\", \"X2\", \"Y2\", \"X3\", \"Y3\", \"X4\", \"Y4\"]\n",
    "            csv_writer.writerow(header)\n",
    "            csv_writer.writerows(csv_rows)\n",
    "        print(f\"File CSV creato con successo: {output_csv}\")\n",
    "    except Exception as e:\n",
    "        print(f\"Errore durante la creazione del file CSV: {e}\")"
   ]
  },
  {
   "cell_type": "code",
   "execution_count": 3,
   "metadata": {},
   "outputs": [
    {
     "name": "stdout",
     "output_type": "stream",
     "text": [
      "File CSV creato con successo: dataset/test.csv\n"
     ]
    }
   ],
   "source": [
    "input_folder = \"dataset/test/labels\"\n",
    "output_csv = \"dataset/test.csv\"\n",
    "create_csv_from_txt(input_folder, output_csv)"
   ]
  },
  {
   "cell_type": "code",
   "execution_count": 4,
   "metadata": {},
   "outputs": [
    {
     "name": "stdout",
     "output_type": "stream",
     "text": [
      "File CSV creato con successo: dataset/train.csv\n"
     ]
    }
   ],
   "source": [
    "input_folder = \"dataset/train/labels\"\n",
    "output_csv = \"dataset/train.csv\"\n",
    "create_csv_from_txt(input_folder, output_csv)"
   ]
  },
  {
   "cell_type": "code",
   "execution_count": 5,
   "metadata": {},
   "outputs": [
    {
     "name": "stdout",
     "output_type": "stream",
     "text": [
      "File CSV creato con successo: dataset/valid.csv\n"
     ]
    }
   ],
   "source": [
    "input_folder = \"dataset/valid/labels\"\n",
    "output_csv = \"dataset/valid.csv\"\n",
    "create_csv_from_txt(input_folder, output_csv)"
   ]
  }
 ],
 "metadata": {
  "kernelspec": {
   "display_name": "base",
   "language": "python",
   "name": "python3"
  },
  "language_info": {
   "codemirror_mode": {
    "name": "ipython",
    "version": 3
   },
   "file_extension": ".py",
   "mimetype": "text/x-python",
   "name": "python",
   "nbconvert_exporter": "python",
   "pygments_lexer": "ipython3",
   "version": "3.9.13"
  }
 },
 "nbformat": 4,
 "nbformat_minor": 2
}
