{
 "cells": [
  {
   "cell_type": "code",
   "execution_count": null,
   "metadata": {},
   "outputs": [],
   "source": [
    "pip install ultralytics"
   ]
  },
  {
   "cell_type": "code",
   "execution_count": null,
   "metadata": {},
   "outputs": [],
   "source": [
    "train: path/to/train/images\n",
    "val: path/to/val/images\n",
    "\n",
    "nc: 2  # Numero di classi: 0 per frattura, 1 per sano\n",
    "names: ['fracture', 'healthy']"
   ]
  },
  {
   "cell_type": "code",
   "execution_count": null,
   "metadata": {},
   "outputs": [],
   "source": [
    "from ultralytics import YOLO\n",
    "\n",
    "# Carica un modello YOLOv8 pre-addestrato (nano, small, ecc.)\n",
    "model = YOLO('yolov8n.pt')\n",
    "\n",
    "# Addestramento del modello\n",
    "model.train(\n",
    "    data='data.yaml',   # Percorso al file YAML\n",
    "    epochs=50,          # Numero di epoche\n",
    "    imgsz=640,          # Dimensione delle immagini\n",
    "    batch=16,           # Dimensione del batch\n",
    "    name='fracture_detection'  # Nome del progetto\n",
    ")"
   ]
  },
  {
   "cell_type": "code",
   "execution_count": null,
   "metadata": {},
   "outputs": [],
   "source": [
    "results = model.predict(source='path/to/test/images', save=True)"
   ]
  }
 ],
 "metadata": {
  "kernelspec": {
   "display_name": "base",
   "language": "python",
   "name": "python3"
  },
  "language_info": {
   "name": "python",
   "version": "3.9.13"
  }
 },
 "nbformat": 4,
 "nbformat_minor": 2
}
