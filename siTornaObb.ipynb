{
 "cells": [
  {
   "cell_type": "code",
   "execution_count": null,
   "metadata": {
    "vscode": {
     "languageId": "plaintext"
    }
   },
   "outputs": [],
   "source": [
    "!pip install ultralytics"
   ]
  },
  {
   "cell_type": "code",
   "execution_count": null,
   "metadata": {
    "vscode": {
     "languageId": "plaintext"
    }
   },
   "outputs": [],
   "source": [
    "import os\n",
    "from ultralytics import YOLO\n",
    "import numpy as np\n",
    "import cv2\n",
    "import random"
   ]
  },
  {
   "cell_type": "code",
   "execution_count": null,
   "metadata": {
    "vscode": {
     "languageId": "plaintext"
    }
   },
   "outputs": [],
   "source": [
    "train_images = 'BoneFractureYolo8/train/images'\n",
    "train_labels = 'BoneFractureYolo8/train/labels'\n",
    "\n",
    "test_images = 'BoneFractureYolo8/test/images'\n",
    "test_labels = 'BoneFractureYolo8/test/labels'\n",
    "\n",
    "val_images = 'BoneFractureYolo8/valid/images'\n",
    "val_labels = 'BoneFractureYolo8/valid/labels'"
   ]
  },
  {
   "cell_type": "code",
   "execution_count": null,
   "metadata": {
    "vscode": {
     "languageId": "plaintext"
    }
   },
   "outputs": [],
   "source": [
    "print('Number of train frames: ' + str(len(os.listdir(train_images))))\n",
    "print('Number of train labels: ' + str(len(os.listdir(train_labels))))\n",
    "print('Number of val frames: ' + str(len(os.listdir(val_images))))\n",
    "print('Number of val labels: ' + str(len(os.listdir(val_labels))))\n",
    "print('Number of test frames: ' + str(len(os.listdir(test_images))))\n",
    "print('Number of test labels: ' + str(len(os.listdir(test_labels))))\n",
    "print('Total frames: ' + str(len(os.listdir(train_images)) + len(os.listdir(test_images)) + len(os.listdir(val_images))))"
   ]
  },
  {
   "cell_type": "code",
   "execution_count": null,
   "metadata": {
    "vscode": {
     "languageId": "plaintext"
    }
   },
   "outputs": [],
   "source": [
    "image_files = [f for f in os.listdir(train_images) if os.path.isfile(os.path.join(train_labels, os.path.splitext(f)[0] + \".txt\"))]\n",
    "print(f\"Number of valid images: {len(image_files)}\")\n",
    "valid_images = []\n",
    "for image_file in image_files:\n",
    "    label_file = os.path.splitext(image_file)[0] + \".txt\"\n",
    "    label_path = os.path.join(train_labels, label_file)\n",
    "    with open(label_path, \"r\") as f:\n",
    "        labels = f.read().strip()\n",
    "    if labels: \n",
    "        valid_images.append(image_file)\n",
    "\n",
    "print(f\"Number of valid images: {len(valid_images)}\")\n",
    "random_images = random.sample(valid_images, 16)\n",
    "fig, axs = plt.subplots(4, 4, figsize=(16, 16))\n",
    "for i, image_file in enumerate(random_images):\n",
    "    row = i // 4\n",
    "    col = i % 4\n",
    "    image_path = os.path.join(train_images, image_file)\n",
    "    image = cv2.imread(image_path)\n",
    "    label_file = os.path.splitext(image_file)[0] + \".txt\"\n",
    "    label_path = os.path.join(train_labels, label_file)\n",
    "    with open(label_path, \"r\") as f:\n",
    "        labels = f.read().strip().split(\"\\n\")\n",
    "    for label in labels:\n",
    "        label_parts = label.split()\n",
    "        _, x1, y1, x2, y2, x3, y3, x4, y4, _ = map(float, label_parts)  # Usa i quattro vertici\n",
    "        pts = [\n",
    "            (int(x1 * image.shape[1]), int(y1 * image.shape[0])),\n",
    "            (int(x2 * image.shape[1]), int(y2 * image.shape[0])),\n",
    "            (int(x3 * image.shape[1]), int(y3 * image.shape[0])),\n",
    "            (int(x4 * image.shape[1]), int(y4 * image.shape[0]))\n",
    "        ]\n",
    "        pts = np.array(pts, np.int32).reshape((-1, 1, 2))\n",
    "        cv2.polylines(image, [pts], isClosed=True, color=(0, 255, 0), thickness=2)\n",
    "    axs[row, col].imshow(cv2.cvtColor(image, cv2.COLOR_BGR2RGB))\n",
    "    axs[row, col].axis('off')\n",
    "\n",
    "plt.show()"
   ]
  },
  {
   "cell_type": "code",
   "execution_count": null,
   "metadata": {
    "vscode": {
     "languageId": "plaintext"
    }
   },
   "outputs": [],
   "source": [
    "def rotate_label(label_path, new_label_path):\n",
    "    with open(label_path, 'r') as file:\n",
    "        lines = file.readlines()\n",
    "    new_lines = []\n",
    "    for line in lines:\n",
    "        parts = line.strip().split()\n",
    "        parts = [parts[0]] + [1 - x for x in parts[1:]]\n",
    "        new_lines.append(\" \".join(map(str, parts)))\n",
    "    with open(new_label_path, 'w') as file:\n",
    "        file.writelines(new_lines)\n",
    "\n",
    "def process_images_labels(image_folder, label_folder):\n",
    "    for label_file in os.listdir(label_folder):\n",
    "        if not label_file.endswith('.txt'):\n",
    "            continue\n",
    "        label_path = os.path.join(label_folder, label_file)\n",
    "        image_path = os.path.join(image_folder, label_file.replace('.txt', '.jpg'))  \n",
    "        new_image_path = os.path.join(image_folder, label_file.replace('.txt', '_rotated.jpg'))\n",
    "        new_label_path = os.path.join(label_folder, label_file.replace('.txt', '_rotated.txt'))\n",
    "        if os.path.exists(image_path):\n",
    "            with open(label_path, 'r') as f:\n",
    "                if f.read().strip(): \n",
    "                    image = cv2.imread(image_path)\n",
    "                    rotated_image = cv2.rotate(image, cv2.ROTATE_180)\n",
    "                    cv2.imwrite(new_image_path, rotated_image)\n",
    "                    rotate_label(label_path, new_label_path)"
   ]
  },
  {
   "cell_type": "code",
   "execution_count": null,
   "metadata": {
    "vscode": {
     "languageId": "plaintext"
    }
   },
   "outputs": [],
   "source": [
    "process_images_labels(train_images, train_labels)"
   ]
  },
  {
   "cell_type": "code",
   "execution_count": null,
   "metadata": {
    "vscode": {
     "languageId": "plaintext"
    }
   },
   "outputs": [],
   "source": [
    "model=YOLO(\"yolov8m-obb.pt\")"
   ]
  },
  {
   "cell_type": "code",
   "execution_count": null,
   "metadata": {
    "vscode": {
     "languageId": "plaintext"
    }
   },
   "outputs": [],
   "source": [
    "result = model.train(data=\"BoneFractureYolo8/data.yaml\",epochs=30, seed=46)"
   ]
  },
  {
   "cell_type": "code",
   "execution_count": null,
   "metadata": {
    "vscode": {
     "languageId": "plaintext"
    }
   },
   "outputs": [],
   "source": [
    "df = pd.read_csv('runs/detect/train/results.csv')\n",
    "df.columns = df.columns.str.strip()\n",
    "\n",
    "# create subplots using seaborn\n",
    "fig, axs = plt.subplots(nrows=5, ncols=2, figsize=(15, 15))\n",
    "\n",
    "# plot the columns using seaborn\n",
    "sns.lineplot(x='epoch', y='train/box_loss', data=df, ax=axs[0,0])\n",
    "sns.lineplot(x='epoch', y='train/cls_loss', data=df, ax=axs[0,1])\n",
    "sns.lineplot(x='epoch', y='train/dfl_loss', data=df, ax=axs[1,0])\n",
    "sns.lineplot(x='epoch', y='metrics/precision(B)', data=df, ax=axs[1,1])\n",
    "sns.lineplot(x='epoch', y='metrics/recall(B)', data=df, ax=axs[2,0])\n",
    "sns.lineplot(x='epoch', y='metrics/mAP50(B)', data=df, ax=axs[2,1])\n",
    "sns.lineplot(x='epoch', y='metrics/mAP50-95(B)', data=df, ax=axs[3,0])\n",
    "sns.lineplot(x='epoch', y='val/box_loss', data=df, ax=axs[3,1])\n",
    "sns.lineplot(x='epoch', y='val/cls_loss', data=df, ax=axs[4,0])\n",
    "sns.lineplot(x='epoch', y='val/dfl_loss', data=df, ax=axs[4,1])\n",
    "\n",
    "# set titles and axis labels for each subplot\n",
    "axs[0,0].set(title='Train Box Loss')\n",
    "axs[0,1].set(title='Train Class Loss')\n",
    "axs[1,0].set(title='Train DFL Loss')\n",
    "axs[1,1].set(title='Metrics Precision (B)')\n",
    "axs[2,0].set(title='Metrics Recall (B)')\n",
    "axs[2,1].set(title='Metrics mAP50 (B)')\n",
    "axs[3,0].set(title='Metrics mAP50-95 (B)')\n",
    "axs[3,1].set(title='Validation Box Loss')\n",
    "axs[4,0].set(title='Validation Class Loss')\n",
    "axs[4,1].set(title='Validation DFL Loss')\n",
    "\n",
    "# add suptitle and subheader\n",
    "plt.suptitle('Training Metrics and Loss', fontsize=24)\n",
    "\n",
    "# adjust top margin to make space for suptitle\n",
    "plt.subplots_adjust(top=0.8)\n",
    "\n",
    "# adjust spacing between subplots\n",
    "plt.tight_layout()\n",
    "\n",
    "plt.show()"
   ]
  },
  {
   "cell_type": "code",
   "execution_count": null,
   "metadata": {
    "vscode": {
     "languageId": "plaintext"
    }
   },
   "outputs": [],
   "source": [
    "import matplotlib.pyplot as plt\n",
    "import numpy as np\n",
    "model = YOLO(\"/kaggle/working/runs/obb/train/weights/best.pt\")\n",
    "source = \"/kaggle/input/bone-fracture-detection-computer-vision-project/BoneFractureYolo8/valid/images/image1_1773_png.rf.51512561cfc16438d9c13166f1b5457b.jpg\"\n",
    "results = model(source, box=0)  # Run inference with standard bounding boxes\n",
    "for result in results:\n",
    "    result.show()  # Show annotated image\n",
    "\n",
    "    # Extract OBB information (if available)\n",
    "    if result.obb is not None:\n",
    "        obb_results = result.obb.xyxyxyxy  # OBB coordinates in xywh format\n",
    "        print(obb_results)"
   ]
  }
 ],
 "metadata": {
  "language_info": {
   "name": "python"
  }
 },
 "nbformat": 4,
 "nbformat_minor": 2
}
